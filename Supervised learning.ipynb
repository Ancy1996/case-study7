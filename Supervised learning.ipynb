{
 "cells": [
  {
   "cell_type": "markdown",
   "id": "3a91463f",
   "metadata": {},
   "source": [
    "# Case study on Supervised learning"
   ]
  },
  {
   "cell_type": "code",
   "execution_count": 77,
   "id": "3c37ec4a",
   "metadata": {},
   "outputs": [
    {
     "data": {
      "text/html": [
       "<div>\n",
       "<style scoped>\n",
       "    .dataframe tbody tr th:only-of-type {\n",
       "        vertical-align: middle;\n",
       "    }\n",
       "\n",
       "    .dataframe tbody tr th {\n",
       "        vertical-align: top;\n",
       "    }\n",
       "\n",
       "    .dataframe thead th {\n",
       "        text-align: right;\n",
       "    }\n",
       "</style>\n",
       "<table border=\"1\" class=\"dataframe\">\n",
       "  <thead>\n",
       "    <tr style=\"text-align: right;\">\n",
       "      <th></th>\n",
       "      <th>SL</th>\n",
       "      <th>SW</th>\n",
       "      <th>PL</th>\n",
       "      <th>PW</th>\n",
       "      <th>Classification</th>\n",
       "    </tr>\n",
       "  </thead>\n",
       "  <tbody>\n",
       "    <tr>\n",
       "      <th>0</th>\n",
       "      <td>5.1</td>\n",
       "      <td>3.5</td>\n",
       "      <td>1.4</td>\n",
       "      <td>0.2</td>\n",
       "      <td>Iris-setosa</td>\n",
       "    </tr>\n",
       "    <tr>\n",
       "      <th>1</th>\n",
       "      <td>4.9</td>\n",
       "      <td>3.0</td>\n",
       "      <td>1.4</td>\n",
       "      <td>0.2</td>\n",
       "      <td>Iris-setosa</td>\n",
       "    </tr>\n",
       "    <tr>\n",
       "      <th>2</th>\n",
       "      <td>NaN</td>\n",
       "      <td>3.2</td>\n",
       "      <td>1.3</td>\n",
       "      <td>0.2</td>\n",
       "      <td>Iris-setosa</td>\n",
       "    </tr>\n",
       "    <tr>\n",
       "      <th>3</th>\n",
       "      <td>4.6</td>\n",
       "      <td>3.1</td>\n",
       "      <td>1.5</td>\n",
       "      <td>0.2</td>\n",
       "      <td>Iris-setosa</td>\n",
       "    </tr>\n",
       "    <tr>\n",
       "      <th>4</th>\n",
       "      <td>5.0</td>\n",
       "      <td>3.6</td>\n",
       "      <td>1.4</td>\n",
       "      <td>0.2</td>\n",
       "      <td>Iris-setosa</td>\n",
       "    </tr>\n",
       "    <tr>\n",
       "      <th>...</th>\n",
       "      <td>...</td>\n",
       "      <td>...</td>\n",
       "      <td>...</td>\n",
       "      <td>...</td>\n",
       "      <td>...</td>\n",
       "    </tr>\n",
       "    <tr>\n",
       "      <th>145</th>\n",
       "      <td>6.7</td>\n",
       "      <td>3.0</td>\n",
       "      <td>5.2</td>\n",
       "      <td>2.3</td>\n",
       "      <td>Iris-virginica</td>\n",
       "    </tr>\n",
       "    <tr>\n",
       "      <th>146</th>\n",
       "      <td>6.3</td>\n",
       "      <td>2.5</td>\n",
       "      <td>5.0</td>\n",
       "      <td>1.9</td>\n",
       "      <td>Iris-virginica</td>\n",
       "    </tr>\n",
       "    <tr>\n",
       "      <th>147</th>\n",
       "      <td>6.5</td>\n",
       "      <td>3.0</td>\n",
       "      <td>NaN</td>\n",
       "      <td>2.0</td>\n",
       "      <td>Iris-virginica</td>\n",
       "    </tr>\n",
       "    <tr>\n",
       "      <th>148</th>\n",
       "      <td>6.2</td>\n",
       "      <td>3.4</td>\n",
       "      <td>5.4</td>\n",
       "      <td>2.3</td>\n",
       "      <td>Iris-virginica</td>\n",
       "    </tr>\n",
       "    <tr>\n",
       "      <th>149</th>\n",
       "      <td>5.9</td>\n",
       "      <td>3.0</td>\n",
       "      <td>5.1</td>\n",
       "      <td>1.8</td>\n",
       "      <td>Iris-virginica</td>\n",
       "    </tr>\n",
       "  </tbody>\n",
       "</table>\n",
       "<p>150 rows × 5 columns</p>\n",
       "</div>"
      ],
      "text/plain": [
       "      SL   SW   PL   PW  Classification\n",
       "0    5.1  3.5  1.4  0.2     Iris-setosa\n",
       "1    4.9  3.0  1.4  0.2     Iris-setosa\n",
       "2    NaN  3.2  1.3  0.2     Iris-setosa\n",
       "3    4.6  3.1  1.5  0.2     Iris-setosa\n",
       "4    5.0  3.6  1.4  0.2     Iris-setosa\n",
       "..   ...  ...  ...  ...             ...\n",
       "145  6.7  3.0  5.2  2.3  Iris-virginica\n",
       "146  6.3  2.5  5.0  1.9  Iris-virginica\n",
       "147  6.5  3.0  NaN  2.0  Iris-virginica\n",
       "148  6.2  3.4  5.4  2.3  Iris-virginica\n",
       "149  5.9  3.0  5.1  1.8  Iris-virginica\n",
       "\n",
       "[150 rows x 5 columns]"
      ]
     },
     "execution_count": 77,
     "metadata": {},
     "output_type": "execute_result"
    }
   ],
   "source": [
    "##1. Read the dataset to the python environment.\n",
    "\n",
    "import pandas as pd\n",
    "data1=pd.read_excel(r'C:\\Users\\ANJU SAJI\\Downloads\\iris.xls')\n",
    "data1"
   ]
  },
  {
   "cell_type": "code",
   "execution_count": 78,
   "id": "23b6067a",
   "metadata": {},
   "outputs": [],
   "source": [
    "##2. Do necessary pre-processing steps.\n"
   ]
  },
  {
   "cell_type": "code",
   "execution_count": 79,
   "id": "026e2730",
   "metadata": {},
   "outputs": [
    {
     "data": {
      "text/plain": [
       "SL                7\n",
       "SW                6\n",
       "PL                6\n",
       "PW                0\n",
       "Classification    0\n",
       "dtype: int64"
      ]
     },
     "execution_count": 79,
     "metadata": {},
     "output_type": "execute_result"
    }
   ],
   "source": [
    "# checking nul value\n",
    "data1.isnull().sum()"
   ]
  },
  {
   "cell_type": "code",
   "execution_count": 80,
   "id": "ff4be052",
   "metadata": {},
   "outputs": [
    {
     "data": {
      "image/png": "[encoded data removed]",
      "text/plain": [
       "<Figure size 720x576 with 4 Axes>"
      ]
     },
     "metadata": {
      "needs_background": "light"
     },
     "output_type": "display_data"
    }
   ],
   "source": [
    "## to check the skewness\n",
    "\n",
    "import matplotlib.pyplot as plt\n",
    "freqgraph=data1.select_dtypes(include=['float','int64'])\n",
    "freqgraph.hist(figsize=(10,8))\n",
    "plt.show()"
   ]
  },
  {
   "cell_type": "code",
   "execution_count": 81,
   "id": "6cdcefc4",
   "metadata": {},
   "outputs": [],
   "source": [
    "#to fill the null value with median\n",
    "\n",
    "\n",
    "data1['SL']=data1['SL'].fillna(data1['SL'].median())\n",
    "data1['SW']=data1['SW'].fillna(data1['SW'].median())\n",
    "data1['PL']=data1['PL'].fillna(data1['PL'].median())"
   ]
  },
  {
   "cell_type": "code",
   "execution_count": 82,
   "id": "c67cb7c2",
   "metadata": {},
   "outputs": [
    {
     "data": {
      "text/plain": [
       "SL                0\n",
       "SW                0\n",
       "PL                0\n",
       "PW                0\n",
       "Classification    0\n",
       "dtype: int64"
      ]
     },
     "execution_count": 82,
     "metadata": {},
     "output_type": "execute_result"
    }
   ],
   "source": [
    "data1.isnull().sum()"
   ]
  },
  {
   "cell_type": "code",
   "execution_count": 83,
   "id": "e2d4b42a",
   "metadata": {},
   "outputs": [
    {
     "data": {
      "text/plain": [
       "Text(0.5, 1.0, 'SL')"
      ]
     },
     "execution_count": 83,
     "metadata": {},
     "output_type": "execute_result"
    },
    {
     "data": {
      "image/png": "[encoded data removed]",
      "text/plain": [
       "<Figure size 432x288 with 1 Axes>"
      ]
     },
     "metadata": {
      "needs_background": "light"
     },
     "output_type": "display_data"
    }
   ],
   "source": [
    "##  check the outliers\n",
    "\n",
    "import matplotlib.pyplot as plt\n",
    "plt.boxplot(data1['SL' ])\n",
    "plt.title('SL')\n"
   ]
  },
  {
   "cell_type": "code",
   "execution_count": 84,
   "id": "e3582c8a",
   "metadata": {},
   "outputs": [
    {
     "data": {
      "text/plain": [
       "Text(0.5, 1.0, 'SW')"
      ]
     },
     "execution_count": 84,
     "metadata": {},
     "output_type": "execute_result"
    },
    {
     "data": {
      "image/png": "[encoded data removed]",
      "text/plain": [
       "<Figure size 432x288 with 1 Axes>"
      ]
     },
     "metadata": {
      "needs_background": "light"
     },
     "output_type": "display_data"
    }
   ],
   "source": [
    "import matplotlib.pyplot as plt\n",
    "plt.boxplot(data1['SW' ])\n",
    "plt.title('SW')"
   ]
  },
  {
   "cell_type": "code",
   "execution_count": 85,
   "id": "1c1387b1",
   "metadata": {},
   "outputs": [
    {
     "data": {
      "text/plain": [
       "Text(0.5, 1.0, 'PL')"
      ]
     },
     "execution_count": 85,
     "metadata": {},
     "output_type": "execute_result"
    },
    {
     "data": {
      "image/png": "[encoded data removed]",
      "text/plain": [
       "<Figure size 432x288 with 1 Axes>"
      ]
     },
     "metadata": {
      "needs_background": "light"
     },
     "output_type": "display_data"
    }
   ],
   "source": [
    "import matplotlib.pyplot as plt\n",
    "plt.boxplot(data1['PL' ])\n",
    "plt.title('PL')"
   ]
  },
  {
   "cell_type": "code",
   "execution_count": 86,
   "id": "f7c51678",
   "metadata": {},
   "outputs": [
    {
     "data": {
      "text/plain": [
       "Text(0.5, 1.0, 'PW')"
      ]
     },
     "execution_count": 86,
     "metadata": {},
     "output_type": "execute_result"
    },
    {
     "data": {
      "image/png": "[encoded data removed]",
      "text/plain": [
       "<Figure size 432x288 with 1 Axes>"
      ]
     },
     "metadata": {
      "needs_background": "light"
     },
     "output_type": "display_data"
    }
   ],
   "source": [
    "import matplotlib.pyplot as plt\n",
    "plt.boxplot(data1['PW' ])\n",
    "plt.title('PW')"
   ]
  },
  {
   "cell_type": "code",
   "execution_count": 87,
   "id": "1feab3db",
   "metadata": {},
   "outputs": [
    {
     "name": "stdout",
     "output_type": "stream",
     "text": [
      "Interquartile range is 0.4500000000000002\n",
      "low_limit is 2.1249999999999996\n",
      "up_limit is 3.9250000000000003\n"
     ]
    }
   ],
   "source": [
    "##to handle outliers in SW\n",
    "\n",
    "import numpy as np\n",
    "Q1 = np.percentile(data1['SW'],25,interpolation='midpoint')\n",
    "Q3 = np.percentile(data1['SW'],75,interpolation='midpoint')\n",
    "IQR = Q3-Q1\n",
    "print('Interquartile range is', IQR)\n",
    "low_limit=Q1-1.5*IQR\n",
    "high_limit=Q3+1.5*IQR\n",
    "print('low_limit is', low_limit)\n",
    "print('up_limit is', high_limit)\n",
    "\n"
   ]
  },
  {
   "cell_type": "code",
   "execution_count": 88,
   "id": "1e07c7a4",
   "metadata": {},
   "outputs": [],
   "source": [
    "index=data1['SW'][(data1['SW']<low_limit)|(data1['SW']>high_limit)].index\n",
    "data1.drop(index,inplace=True)\n"
   ]
  },
  {
   "cell_type": "code",
   "execution_count": 89,
   "id": "983256fe",
   "metadata": {},
   "outputs": [
    {
     "data": {
      "text/plain": [
       "{'whiskers': [<matplotlib.lines.Line2D at 0x169b3b1e50>,\n",
       "  <matplotlib.lines.Line2D at 0x169b3c11c0>],\n",
       " 'caps': [<matplotlib.lines.Line2D at 0x169b3c1460>,\n",
       "  <matplotlib.lines.Line2D at 0x169b3c17f0>],\n",
       " 'boxes': [<matplotlib.lines.Line2D at 0x169b3b1ac0>],\n",
       " 'medians': [<matplotlib.lines.Line2D at 0x169b3c1b80>],\n",
       " 'fliers': [<matplotlib.lines.Line2D at 0x169b3c1f10>],\n",
       " 'means': []}"
      ]
     },
     "execution_count": 89,
     "metadata": {},
     "output_type": "execute_result"
    },
    {
     "data": {
      "image/png": "[encoded data removed]",
      "text/plain": [
       "<Figure size 432x288 with 1 Axes>"
      ]
     },
     "metadata": {
      "needs_background": "light"
     },
     "output_type": "display_data"
    }
   ],
   "source": [
    "plt.boxplot(x=data1['SW'])"
   ]
  },
  {
   "cell_type": "code",
   "execution_count": 90,
   "id": "ef494758",
   "metadata": {},
   "outputs": [],
   "source": [
    "##3. Find out which classification model gives the best result to predict iris species.(also do random forest algorithm)\n",
    "\n",
    "x=data1.drop('Classification',axis=1)\n",
    "y=data1['Classification']"
   ]
  },
  {
   "cell_type": "code",
   "execution_count": 91,
   "id": "7612bfd9",
   "metadata": {},
   "outputs": [],
   "source": [
    "\n",
    "\n",
    "## to  split the data\n",
    "import numpy as np\n",
    "from sklearn.model_selection import train_test_split\n",
    "x_train, x_test, y_train, y_test = train_test_split(x, y)"
   ]
  },
  {
   "cell_type": "code",
   "execution_count": 92,
   "id": "58e96031",
   "metadata": {},
   "outputs": [],
   "source": [
    "##  Logistic Regression\n",
    "\n",
    "from sklearn.linear_model import LogisticRegression\n",
    "logisticRegr = LogisticRegression()\n",
    "logisticRegr.fit(x_train, y_train)\n",
    "y_pred=logisticRegr.predict(x_test)"
   ]
  },
  {
   "cell_type": "code",
   "execution_count": 93,
   "id": "8fdca2a3",
   "metadata": {},
   "outputs": [
    {
     "data": {
      "text/plain": [
       "array(['Iris-virginica', 'Iris-setosa', 'Iris-versicolor', 'Iris-setosa',\n",
       "       'Iris-setosa'], dtype=object)"
      ]
     },
     "execution_count": 93,
     "metadata": {},
     "output_type": "execute_result"
    }
   ],
   "source": [
    "y_pred[0:5]"
   ]
  },
  {
   "cell_type": "code",
   "execution_count": 94,
   "id": "dd1d522f",
   "metadata": {},
   "outputs": [
    {
     "data": {
      "text/plain": [
       "102     Iris-virginica\n",
       "45         Iris-setosa\n",
       "81     Iris-versicolor\n",
       "2          Iris-setosa\n",
       "7          Iris-setosa\n",
       "Name: Classification, dtype: object"
      ]
     },
     "execution_count": 94,
     "metadata": {},
     "output_type": "execute_result"
    }
   ],
   "source": [
    "y_test[0:5]"
   ]
  },
  {
   "cell_type": "code",
   "execution_count": 95,
   "id": "d8a8ea2b",
   "metadata": {},
   "outputs": [
    {
     "name": "stdout",
     "output_type": "stream",
     "text": [
      "accuracy = 0.918918918918919\n",
      "precision = 0.9166666666666666\n",
      "recall = 0.9299145299145298\n",
      "F1 score = 0.9152380952380952\n"
     ]
    }
   ],
   "source": [
    "from sklearn.metrics import confusion_matrix,accuracy_score,precision_score,recall_score,f1_score\n",
    "print(\"accuracy =\",accuracy_score(y_test,y_pred))\n",
    "print(\"precision =\",precision_score(y_test,y_pred,average='macro'))\n",
    "print(\"recall =\",recall_score(y_test,y_pred,average='macro'))\n",
    "print(\"F1 score =\",f1_score(y_test,y_pred,average='macro'))"
   ]
  },
  {
   "cell_type": "code",
   "execution_count": 96,
   "id": "caec40d7",
   "metadata": {},
   "outputs": [],
   "source": [
    "temp=[]\n",
    "temp.append(['Logistic regression',round(f1_score(y_test,y_pred,average='macro'),5)])"
   ]
  },
  {
   "cell_type": "code",
   "execution_count": 97,
   "id": "3c7cc1df",
   "metadata": {},
   "outputs": [],
   "source": [
    "##  Random Forest\n",
    "\n",
    "from sklearn.ensemble import RandomForestClassifier\n",
    "ran=RandomForestClassifier()\n",
    "ran.fit(x_train,y_train)\n",
    "y_pred=ran.predict(x_test)"
   ]
  },
  {
   "cell_type": "code",
   "execution_count": 98,
   "id": "dedf864a",
   "metadata": {},
   "outputs": [
    {
     "data": {
      "text/plain": [
       "array(['Iris-virginica', 'Iris-setosa', 'Iris-versicolor', 'Iris-setosa',\n",
       "       'Iris-setosa'], dtype=object)"
      ]
     },
     "execution_count": 98,
     "metadata": {},
     "output_type": "execute_result"
    }
   ],
   "source": [
    "y_pred[0:5]"
   ]
  },
  {
   "cell_type": "code",
   "execution_count": 99,
   "id": "5393d282",
   "metadata": {},
   "outputs": [
    {
     "data": {
      "text/plain": [
       "102     Iris-virginica\n",
       "45         Iris-setosa\n",
       "81     Iris-versicolor\n",
       "2          Iris-setosa\n",
       "7          Iris-setosa\n",
       "Name: Classification, dtype: object"
      ]
     },
     "execution_count": 99,
     "metadata": {},
     "output_type": "execute_result"
    }
   ],
   "source": [
    "y_test[0:5]"
   ]
  },
  {
   "cell_type": "code",
   "execution_count": 100,
   "id": "8f06c186",
   "metadata": {},
   "outputs": [
    {
     "name": "stdout",
     "output_type": "stream",
     "text": [
      "accuracy = 0.918918918918919\n",
      "precision = 0.9166666666666666\n",
      "recall = 0.9333333333333332\n",
      "F1 score = 0.9153439153439153\n"
     ]
    }
   ],
   "source": [
    "from sklearn.metrics import confusion_matrix,accuracy_score,precision_score,recall_score,f1_score\n",
    "print(\"accuracy =\",accuracy_score(y_test,y_pred))\n",
    "print(\"precision =\",precision_score(y_test,y_pred,average='macro'))\n",
    "print(\"recall =\",recall_score(y_test,y_pred,average='macro'))\n",
    "print(\"F1 score =\",f1_score(y_test,y_pred,average='macro'))"
   ]
  },
  {
   "cell_type": "code",
   "execution_count": 101,
   "id": "34974cf6",
   "metadata": {},
   "outputs": [],
   "source": [
    "temp.append(['Random forest',round(f1_score(y_test,y_pred,average='macro'),5)])"
   ]
  },
  {
   "cell_type": "code",
   "execution_count": 105,
   "id": "b26d0123",
   "metadata": {},
   "outputs": [],
   "source": [
    "##  Decision Tree\n",
    "\n",
    "from sklearn.tree import DecisionTreeClassifier\n",
    "\n",
    "dt=DecisionTreeClassifier()\n",
    "dt.fit(x_train,y_train)\n",
    "y_pred=dt.predict(x_test)"
   ]
  },
  {
   "cell_type": "code",
   "execution_count": 103,
   "id": "b69c0d2c",
   "metadata": {},
   "outputs": [
    {
     "data": {
      "text/plain": [
       "array(['Iris-virginica', 'Iris-setosa', 'Iris-versicolor', 'Iris-setosa',\n",
       "       'Iris-setosa'], dtype=object)"
      ]
     },
     "execution_count": 103,
     "metadata": {},
     "output_type": "execute_result"
    }
   ],
   "source": [
    "y_pred[0:5]"
   ]
  },
  {
   "cell_type": "code",
   "execution_count": 60,
   "id": "9f62abf9",
   "metadata": {},
   "outputs": [
    {
     "data": {
      "text/plain": [
       "1          Iris-setosa\n",
       "47         Iris-setosa\n",
       "58     Iris-versicolor\n",
       "148     Iris-virginica\n",
       "88     Iris-versicolor\n",
       "Name: Classification, dtype: object"
      ]
     },
     "execution_count": 60,
     "metadata": {},
     "output_type": "execute_result"
    }
   ],
   "source": [
    "y_test[0:5]"
   ]
  },
  {
   "cell_type": "code",
   "execution_count": 61,
   "id": "b05023e9",
   "metadata": {},
   "outputs": [
    {
     "name": "stdout",
     "output_type": "stream",
     "text": [
      "accuracy = 0.918918918918919\n",
      "precision = 0.9411764705882352\n",
      "recall = 0.923076923076923\n",
      "F1 score = 0.9242636746143059\n"
     ]
    }
   ],
   "source": [
    "from sklearn.metrics import confusion_matrix,accuracy_score,precision_score,recall_score,f1_score\n",
    "print(\"accuracy =\",accuracy_score(y_test,y_pred))\n",
    "print(\"precision =\",precision_score(y_test,y_pred,average='macro'))\n",
    "print(\"recall =\",recall_score(y_test,y_pred,average='macro'))\n",
    "print(\"F1 score =\",f1_score(y_test,y_pred,average='macro'))"
   ]
  },
  {
   "cell_type": "code",
   "execution_count": 62,
   "id": "317a43bd",
   "metadata": {},
   "outputs": [],
   "source": [
    "temp.append(['decision tree',round(f1_score(y_test,y_pred,average='macro'),5)])"
   ]
  },
  {
   "cell_type": "code",
   "execution_count": 106,
   "id": "3d1a3916",
   "metadata": {},
   "outputs": [],
   "source": [
    "##svm\n",
    "\n",
    "from sklearn.svm import SVC\n",
    "svm_linear=SVC(kernel='linear')\n",
    "svm_linear.fit(x_train,y_train)\n",
    "y_pred=svm_linear.predict(x_test)"
   ]
  },
  {
   "cell_type": "code",
   "execution_count": 107,
   "id": "1f9ab7cb",
   "metadata": {},
   "outputs": [
    {
     "data": {
      "text/plain": [
       "array(['Iris-virginica', 'Iris-setosa', 'Iris-versicolor', 'Iris-setosa',\n",
       "       'Iris-setosa'], dtype=object)"
      ]
     },
     "execution_count": 107,
     "metadata": {},
     "output_type": "execute_result"
    }
   ],
   "source": [
    "y_pred[0:5]"
   ]
  },
  {
   "cell_type": "code",
   "execution_count": 108,
   "id": "419632d1",
   "metadata": {},
   "outputs": [
    {
     "data": {
      "text/plain": [
       "102     Iris-virginica\n",
       "45         Iris-setosa\n",
       "81     Iris-versicolor\n",
       "2          Iris-setosa\n",
       "7          Iris-setosa\n",
       "Name: Classification, dtype: object"
      ]
     },
     "execution_count": 108,
     "metadata": {},
     "output_type": "execute_result"
    }
   ],
   "source": [
    "y_test[0:5]"
   ]
  },
  {
   "cell_type": "code",
   "execution_count": 109,
   "id": "bfd411e1",
   "metadata": {},
   "outputs": [
    {
     "name": "stdout",
     "output_type": "stream",
     "text": [
      "accuracy = 0.972972972972973\n",
      "precision = 0.9666666666666667\n",
      "recall = 0.9777777777777779\n",
      "F1 score = 0.9709618874773139\n"
     ]
    }
   ],
   "source": [
    "from sklearn.metrics import confusion_matrix,accuracy_score,precision_score,recall_score,f1_score\n",
    "print(\"accuracy =\",accuracy_score(y_test,y_pred))\n",
    "print(\"precision =\",precision_score(y_test,y_pred,average='macro'))\n",
    "print(\"recall =\",recall_score(y_test,y_pred,average='macro'))\n",
    "print(\"F1 score =\",f1_score(y_test,y_pred,average='macro'))"
   ]
  },
  {
   "cell_type": "code",
   "execution_count": 110,
   "id": "a500670f",
   "metadata": {},
   "outputs": [],
   "source": [
    "temp.append(['Linear svm',round(f1_score(y_test,y_pred,average='macro'),5)])"
   ]
  },
  {
   "cell_type": "code",
   "execution_count": 111,
   "id": "c20362d8",
   "metadata": {},
   "outputs": [],
   "source": [
    "## radial svm\n",
    "\n",
    "svm_radial=SVC(kernel='rbf')\n",
    "svm_radial.fit(x_train,y_train)\n",
    "y_pred=svm_radial.predict(x_test)"
   ]
  },
  {
   "cell_type": "code",
   "execution_count": 112,
   "id": "bdaa4fa6",
   "metadata": {},
   "outputs": [
    {
     "name": "stdout",
     "output_type": "stream",
     "text": [
      "accuracy = 0.8918918918918919\n",
      "precision = 0.8974358974358975\n",
      "recall = 0.9076923076923077\n",
      "F1 score = 0.889023569023569\n"
     ]
    }
   ],
   "source": [
    "from sklearn.metrics import confusion_matrix,accuracy_score,precision_score,recall_score,f1_score\n",
    "print(\"accuracy =\",accuracy_score(y_test,y_pred))\n",
    "print(\"precision =\",precision_score(y_test,y_pred,average='macro'))\n",
    "print(\"recall =\",recall_score(y_test,y_pred,average='macro'))\n",
    "print(\"F1 score =\",f1_score(y_test,y_pred,average='macro'))"
   ]
  },
  {
   "cell_type": "code",
   "execution_count": 113,
   "id": "c49b7ec4",
   "metadata": {},
   "outputs": [],
   "source": [
    "temp.append(['radial svm',round(f1_score(y_test,y_pred,average='macro'),5)])"
   ]
  },
  {
   "cell_type": "code",
   "execution_count": 114,
   "id": "21d9b699",
   "metadata": {},
   "outputs": [],
   "source": [
    "\n",
    "##polynomial svm\n",
    "\n",
    "svm_poly=SVC(kernel='poly',degree=3)\n",
    "svm_poly.fit(x_train,y_train)\n",
    "y_pred=svm_poly.predict(x_test)"
   ]
  },
  {
   "cell_type": "code",
   "execution_count": 115,
   "id": "7efabc62",
   "metadata": {},
   "outputs": [
    {
     "data": {
      "text/plain": [
       "array(['Iris-virginica', 'Iris-setosa', 'Iris-versicolor', 'Iris-setosa',\n",
       "       'Iris-setosa'], dtype=object)"
      ]
     },
     "execution_count": 115,
     "metadata": {},
     "output_type": "execute_result"
    }
   ],
   "source": [
    "y_pred[0:5]"
   ]
  },
  {
   "cell_type": "code",
   "execution_count": 116,
   "id": "fbf3348b",
   "metadata": {},
   "outputs": [
    {
     "data": {
      "text/plain": [
       "102     Iris-virginica\n",
       "45         Iris-setosa\n",
       "81     Iris-versicolor\n",
       "2          Iris-setosa\n",
       "7          Iris-setosa\n",
       "Name: Classification, dtype: object"
      ]
     },
     "execution_count": 116,
     "metadata": {},
     "output_type": "execute_result"
    }
   ],
   "source": [
    "y_test[0:5]"
   ]
  },
  {
   "cell_type": "code",
   "execution_count": 117,
   "id": "ea7b3034",
   "metadata": {},
   "outputs": [
    {
     "name": "stdout",
     "output_type": "stream",
     "text": [
      "accuracy = 1.0\n",
      "precision = 1.0\n",
      "recall = 1.0\n",
      "F1 score = 1.0\n"
     ]
    }
   ],
   "source": [
    "from sklearn.metrics import confusion_matrix,accuracy_score,precision_score,recall_score,f1_score\n",
    "print(\"accuracy =\",accuracy_score(y_test,y_pred))\n",
    "print(\"precision =\",precision_score(y_test,y_pred,average='macro'))\n",
    "print(\"recall =\",recall_score(y_test,y_pred,average='macro'))\n",
    "print(\"F1 score =\",f1_score(y_test,y_pred,average='macro'))"
   ]
  },
  {
   "cell_type": "code",
   "execution_count": 118,
   "id": "52384c17",
   "metadata": {},
   "outputs": [],
   "source": [
    "temp.append(['polynomial svm',round(f1_score(y_test,y_pred,average='macro'),5)])"
   ]
  },
  {
   "cell_type": "code",
   "execution_count": 76,
   "id": "5711298a",
   "metadata": {},
   "outputs": [
    {
     "data": {
      "text/html": [
       "<div>\n",
       "<style scoped>\n",
       "    .dataframe tbody tr th:only-of-type {\n",
       "        vertical-align: middle;\n",
       "    }\n",
       "\n",
       "    .dataframe tbody tr th {\n",
       "        vertical-align: top;\n",
       "    }\n",
       "\n",
       "    .dataframe thead th {\n",
       "        text-align: right;\n",
       "    }\n",
       "</style>\n",
       "<table border=\"1\" class=\"dataframe\">\n",
       "  <thead>\n",
       "    <tr style=\"text-align: right;\">\n",
       "      <th></th>\n",
       "      <th>Algorithms</th>\n",
       "      <th>F1-Score</th>\n",
       "    </tr>\n",
       "  </thead>\n",
       "  <tbody>\n",
       "    <tr>\n",
       "      <th>0</th>\n",
       "      <td>Logistic regression</td>\n",
       "      <td>0.92426</td>\n",
       "    </tr>\n",
       "    <tr>\n",
       "      <th>1</th>\n",
       "      <td>Random forest</td>\n",
       "      <td>0.92426</td>\n",
       "    </tr>\n",
       "    <tr>\n",
       "      <th>2</th>\n",
       "      <td>decision tree</td>\n",
       "      <td>0.92426</td>\n",
       "    </tr>\n",
       "    <tr>\n",
       "      <th>3</th>\n",
       "      <td>Linear svm</td>\n",
       "      <td>0.92426</td>\n",
       "    </tr>\n",
       "    <tr>\n",
       "      <th>4</th>\n",
       "      <td>radial svm</td>\n",
       "      <td>0.92426</td>\n",
       "    </tr>\n",
       "    <tr>\n",
       "      <th>5</th>\n",
       "      <td>polynomial svm</td>\n",
       "      <td>0.92426</td>\n",
       "    </tr>\n",
       "  </tbody>\n",
       "</table>\n",
       "</div>"
      ],
      "text/plain": [
       "            Algorithms  F1-Score\n",
       "0  Logistic regression   0.92426\n",
       "1        Random forest   0.92426\n",
       "2        decision tree   0.92426\n",
       "3           Linear svm   0.92426\n",
       "4           radial svm   0.92426\n",
       "5       polynomial svm   0.92426"
      ]
     },
     "execution_count": 76,
     "metadata": {},
     "output_type": "execute_result"
    }
   ],
   "source": [
    "data2 = pd.DataFrame(temp, columns = ['Algorithms', 'F1-Score'])\n",
    "data2"
   ]
  },
  {
   "cell_type": "code",
   "execution_count": null,
   "id": "be2dcdf1",
   "metadata": {},
   "outputs": [],
   "source": []
  }
 ],
 "metadata": {
  "kernelspec": {
   "display_name": "Python 3 (ipykernel)",
   "language": "python",
   "name": "python3"
  },
  "language_info": {
   "codemirror_mode": {
    "name": "ipython",
    "version": 3
   },
   "file_extension": ".py",
   "mimetype": "text/x-python",
   "name": "python",
   "nbconvert_exporter": "python",
   "pygments_lexer": "ipython3",
   "version": "3.9.7"
  }
 },
 "nbformat": 4,
 "nbformat_minor": 5
}
